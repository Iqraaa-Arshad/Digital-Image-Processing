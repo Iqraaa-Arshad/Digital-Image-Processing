{
  "cells": [
    {
      "cell_type": "code",
      "execution_count": null,
      "metadata": {
        "colab": {
          "base_uri": "https://localhost:8080/",
          "height": 326
        },
        "id": "vuvBp-zoZqb3",
        "outputId": "4f700c64-2b95-492f-cafd-f386e515b5f2"
      },
      "outputs": [],
      "source": [
        "import cv2\n",
        "from google.colab.patches import cv2_imshow\n",
        "\n",
        "from google.colab import files\n",
        "uploaded = files.upload()\n",
        "\n",
        "image_path = next(iter(uploaded))\n",
        "image = cv2.imread(image_path)\n",
        "\n",
        "cv2_imshow(image)\n",
        "\n",
        "height, width, channels = image.shape\n",
        "print(f\"Height: {height}, Width: {width}, Channels: {channels}\")\n",
        "\n",
        "bit_depth = image.dtype\n",
        "print(f\"Bit Depth: {bit_depth}\")\n"
      ]
    },
    {
      "cell_type": "code",
      "execution_count": null,
      "metadata": {
        "colab": {
          "base_uri": "https://localhost:8080/",
          "height": 457
        },
        "id": "vxCCgKiIfGDq",
        "outputId": "905a97b8-b735-411f-bfe4-ccfeecaacde3"
      },
      "outputs": [],
      "source": [
        "gray_image = cv2.cvtColor(image, cv2.COLOR_BGR2GRAY)\n",
        "\n",
        "_, binarized_image = cv2.threshold(gray_image, 127, 255, cv2.THRESH_BINARY)\n",
        "\n",
        "cv2_imshow(gray_image)\n",
        "cv2_imshow(binarized_image)\n"
      ]
    },
    {
      "cell_type": "code",
      "execution_count": null,
      "metadata": {
        "colab": {
          "base_uri": "https://localhost:8080/",
          "height": 474
        },
        "id": "UoaY9hhagaJw",
        "outputId": "ffeb11e5-7748-495b-b108-0f159012eae0"
      },
      "outputs": [],
      "source": [
        "if channels == 3:\n",
        "    print(\"This is a 3-channel image.\")\n",
        "    gray_image = cv2.cvtColor(image, cv2.COLOR_BGR2GRAY)\n",
        "    cv2_imshow(gray_image)\n",
        "\n",
        "    _, binarized_image = cv2.threshold(gray_image, 127, 255, cv2.THRESH_BINARY)\n",
        "    cv2_imshow(binarized_image)\n",
        "else:\n",
        "    print(\"This is a single-channel image.\")\n",
        "    cv2_imshow(image)\n"
      ]
    },
    {
      "cell_type": "code",
      "execution_count": null,
      "metadata": {
        "colab": {
          "base_uri": "https://localhost:8080/",
          "height": 237
        },
        "id": "YcnFjudfg8Va",
        "outputId": "1f0258f8-fe01-4476-ead3-113f25d8da0a"
      },
      "outputs": [],
      "source": [
        "def custom_binarization(image, threshold=127):\n",
        "    binary_image = image.copy()\n",
        "    for i in range(image.shape[0]):\n",
        "        for j in range(image.shape[1]):\n",
        "            if image[i, j] > threshold:\n",
        "                binary_image[i, j] = 255\n",
        "            else:\n",
        "                binary_image[i, j] = 0\n",
        "    return binary_image\n",
        "\n",
        "gray_image = cv2.cvtColor(image, cv2.COLOR_BGR2GRAY)\n",
        "\n",
        "binary_image = custom_binarization(gray_image)\n",
        "\n",
        "cv2_imshow(binary_image)\n"
      ]
    },
    {
      "cell_type": "code",
      "execution_count": null,
      "metadata": {
        "colab": {
          "base_uri": "https://localhost:8080/",
          "height": 1000
        },
        "id": "cEhFX5ArkErj",
        "outputId": "9922e871-55f8-483e-b31c-ba54833cc5c7"
      },
      "outputs": [],
      "source": [
        "from google.colab import files\n",
        "import cv2\n",
        "\n",
        "uploaded = files.upload()\n",
        "\n",
        "video_path = next(iter(uploaded))\n",
        "cap = cv2.VideoCapture(video_path)\n",
        "\n",
        "while cap.isOpened():\n",
        "    ret, frame = cap.read()\n",
        "\n",
        "    if not ret:\n",
        "        print(\"End of video!!\")\n",
        "        break\n",
        "\n",
        "    gray_frame = cv2.cvtColor(frame, cv2.COLOR_BGR2GRAY)\n",
        "\n",
        "    from google.colab.patches import cv2_imshow\n",
        "    cv2_imshow(gray_frame)\n",
        "\n",
        "cap.release()\n",
        "cv2.destroyAllWindows()\n"
      ]
    }
  ],
  "metadata": {
    "colab": {
      "provenance": []
    },
    "kernelspec": {
      "display_name": "Python 3",
      "name": "python3"
    },
    "language_info": {
      "name": "python"
    }
  },
  "nbformat": 4,
  "nbformat_minor": 0
}
